{
 "cells": [
  {
   "cell_type": "code",
   "execution_count": 58,
   "metadata": {},
   "outputs": [],
   "source": [
    "import re\n",
    "from collections import Counter\n",
    "import os \n",
    "\n",
    "cwd = os.getcwd()"
   ]
  },
  {
   "cell_type": "code",
   "execution_count": 59,
   "metadata": {},
   "outputs": [],
   "source": [
    "path = os.path.join(cwd,\"Test/data/text_test.txt\")"
   ]
  },
  {
   "cell_type": "code",
   "execution_count": 60,
   "metadata": {},
   "outputs": [],
   "source": [
    "\n",
    "def extract_clean_text(path):\n",
    "    \"\"\"\n",
    "    -> path du fichier\n",
    "    -> renvoie le text\n",
    "    \"\"\"\n",
    "    file = open(path)\n",
    "    text = \"\"\n",
    "    for line in file.readlines():\n",
    "        text += line.strip()\n",
    "\n",
    "        # nettoyage du texte : \n",
    "        words = re.findall(r'\\b\\w+\\b', text)\n",
    "        text = \" \".join(words)\n",
    "\n",
    "    return text"
   ]
  },
  {
   "cell_type": "code",
   "execution_count": 61,
   "metadata": {},
   "outputs": [
    {
     "data": {
      "text/plain": [
       "'Le lundi dix huitième jour du mois d août 1572 il y avl obscuritéhuiait grande fête au Louvre'"
      ]
     },
     "execution_count": 61,
     "metadata": {},
     "output_type": "execute_result"
    }
   ],
   "source": [
    "text = extract_clean_text(path)\n",
    "text\n"
   ]
  },
  {
   "cell_type": "code",
   "execution_count": 62,
   "metadata": {},
   "outputs": [],
   "source": [
    "def create_lexicon(text):\n",
    "        \"\"\" \n",
    "        -> text\n",
    "        -> renvoie {mot1 : occurence, mot2 ...}\n",
    "        \"\"\"\n",
    "        words = re.findall(r'\\b\\w+\\b', text)\n",
    "        word_count = Counter(words)\n",
    "        lexicon = dict(word_count)\n",
    "        return lexicon"
   ]
  },
  {
   "cell_type": "code",
   "execution_count": 63,
   "metadata": {},
   "outputs": [
    {
     "data": {
      "text/plain": [
       "{'Le': 1,\n",
       " 'lundi': 1,\n",
       " 'dix': 1,\n",
       " 'huitième': 1,\n",
       " 'jour': 1,\n",
       " 'du': 1,\n",
       " 'mois': 1,\n",
       " 'd': 1,\n",
       " 'août': 1,\n",
       " '1572': 1,\n",
       " 'il': 1,\n",
       " 'y': 1,\n",
       " 'avl': 1,\n",
       " 'obscuritéhuiait': 1,\n",
       " 'grande': 1,\n",
       " 'fête': 1,\n",
       " 'au': 1,\n",
       " 'Louvre': 1}"
      ]
     },
     "execution_count": 63,
     "metadata": {},
     "output_type": "execute_result"
    }
   ],
   "source": [
    "lexicon = create_lexicon(text)\n",
    "lexicon\n"
   ]
  },
  {
   "cell_type": "code",
   "execution_count": 72,
   "metadata": {},
   "outputs": [],
   "source": [
    "# pour les tests : \n",
    "L = 2\n",
    "\n",
    "def cpos(text, L):\n",
    "    \"\"\"\n",
    "    -> text\n",
    "    -> dict[cpos] {mot1 : dict[contect]{ mot1 :  occurence, mot2 : occurence }}\n",
    "    \"\"\"\n",
    "    cpos = dict()\n",
    "    mots = text.split(\" \")\n",
    "    for i in range(L, len(mots)-L) : \n",
    "        if mots[i] in cpos.keys():\n",
    "            for j in range(i-L, i+L):\n",
    "                if j == i: \n",
    "                     continue\n",
    "                if mots[j] in ctx.keys():\n",
    "                        ctx[mots[j]]+=1\n",
    "                else: ctx[mots[j]]=1\n",
    "        else :\n",
    "            ctx = dict()\n",
    "            for j in range(i-L, i+L):\n",
    "                if i == j:\n",
    "                    continue\n",
    "                ctx[mots[j]]=1\n",
    "            cpos[mots[i]] = ctx\n",
    "    return cpos"
   ]
  },
  {
   "cell_type": "code",
   "execution_count": 73,
   "metadata": {},
   "outputs": [
    {
     "data": {
      "text/plain": [
       "{'dix': {'Le': 1, 'lundi': 1, 'huitième': 1},\n",
       " 'huitième': {'lundi': 1, 'dix': 1, 'jour': 1},\n",
       " 'jour': {'dix': 1, 'huitième': 1, 'du': 1},\n",
       " 'du': {'huitième': 1, 'jour': 1, 'mois': 1},\n",
       " 'mois': {'jour': 1, 'du': 1, 'd': 1},\n",
       " 'd': {'du': 1, 'mois': 1, 'août': 1},\n",
       " 'août': {'mois': 1, 'd': 1, '1572': 1},\n",
       " '1572': {'d': 1, 'août': 1, 'il': 1},\n",
       " 'il': {'août': 1, '1572': 1, 'y': 1},\n",
       " 'y': {'1572': 1, 'il': 1, 'avl': 1},\n",
       " 'avl': {'il': 1, 'y': 1, 'obscuritéhuiait': 1},\n",
       " 'obscuritéhuiait': {'y': 1, 'avl': 1, 'grande': 1},\n",
       " 'grande': {'avl': 1, 'obscuritéhuiait': 1, 'fête': 1},\n",
       " 'fête': {'obscuritéhuiait': 1, 'grande': 1, 'au': 1}}"
      ]
     },
     "execution_count": 73,
     "metadata": {},
     "output_type": "execute_result"
    }
   ],
   "source": [
    "cpos = cpos(text, L)\n",
    "cpos"
   ]
  }
 ],
 "metadata": {
  "kernelspec": {
   "display_name": "Python 3",
   "language": "python",
   "name": "python3"
  },
  "language_info": {
   "codemirror_mode": {
    "name": "ipython",
    "version": 3
   },
   "file_extension": ".py",
   "mimetype": "text/x-python",
   "name": "python",
   "nbconvert_exporter": "python",
   "pygments_lexer": "ipython3",
   "version": "3.10.14"
  },
  "orig_nbformat": 4
 },
 "nbformat": 4,
 "nbformat_minor": 2
}
