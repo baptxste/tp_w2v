{
 "cells": [
  {
   "attachments": {},
   "cell_type": "markdown",
   "metadata": {},
   "source": [
    "# **Analise de l'archive results_arc1**\n",
    "\n",
    "Résultats généré par le script main_para avec les paramètres : \n",
    "\n",
    "L_vals = [100] \\\n",
    "lr_vals = [0.1] \\\n",
    "it_vals = [5, 7, 10, 20] \\\n",
    "w_vals = [1, 2, 3, 5, 7] \\\n",
    "k_vals = [1, 3, 5, 10] \\\n",
    "occ_min_vals = [1, 5, 10] \\\n",
    "listpath = [\"../tlnl_tp1_data/alexandre_dumas/Le_comte_de_Monte_Cristo.txt\"]"
   ]
  },
  {
   "cell_type": "code",
   "execution_count": 33,
   "metadata": {},
   "outputs": [],
   "source": [
    "import pandas as pd\n",
    "import os\n",
    "import json \n",
    "import numpy as np"
   ]
  },
  {
   "cell_type": "code",
   "execution_count": 4,
   "metadata": {},
   "outputs": [],
   "source": [
    "L = []\n",
    "for file in os.listdir('results'):\n",
    "    with open('results/'+file,'r') as file :\n",
    "        info = json.load(file)\n",
    "    L.append(info)"
   ]
  },
  {
   "cell_type": "code",
   "execution_count": 31,
   "metadata": {},
   "outputs": [],
   "source": [
    "df = pd.DataFrame(L)\n",
    "df.reset_index(drop=True, inplace=True)\n",
    "df.sort_values(by='resultat (%)', ascending=False, inplace=True)\n",
    "\n"
   ]
  },
  {
   "cell_type": "code",
   "execution_count": 23,
   "metadata": {},
   "outputs": [
    {
     "data": {
      "text/plain": [
       "experience        int64\n",
       "k                 int64\n",
       "w                 int64\n",
       "it                int64\n",
       "lr              float64\n",
       "L                 int64\n",
       "occ_min           int64\n",
       "loss             object\n",
       "resultat (%)    float64\n",
       "dtype: object"
      ]
     },
     "execution_count": 23,
     "metadata": {},
     "output_type": "execute_result"
    }
   ],
   "source": [
    "df.dtypes"
   ]
  },
  {
   "cell_type": "code",
   "execution_count": 32,
   "metadata": {},
   "outputs": [
    {
     "data": {
      "text/html": [
       "<div>\n",
       "<style scoped>\n",
       "    .dataframe tbody tr th:only-of-type {\n",
       "        vertical-align: middle;\n",
       "    }\n",
       "\n",
       "    .dataframe tbody tr th {\n",
       "        vertical-align: top;\n",
       "    }\n",
       "\n",
       "    .dataframe thead th {\n",
       "        text-align: right;\n",
       "    }\n",
       "</style>\n",
       "<table border=\"1\" class=\"dataframe\">\n",
       "  <thead>\n",
       "    <tr style=\"text-align: right;\">\n",
       "      <th></th>\n",
       "      <th>experience</th>\n",
       "      <th>k</th>\n",
       "      <th>w</th>\n",
       "      <th>it</th>\n",
       "      <th>lr</th>\n",
       "      <th>L</th>\n",
       "      <th>occ_min</th>\n",
       "      <th>loss</th>\n",
       "      <th>resultat (%)</th>\n",
       "    </tr>\n",
       "  </thead>\n",
       "  <tbody>\n",
       "    <tr>\n",
       "      <th>30</th>\n",
       "      <td>24</td>\n",
       "      <td>1</td>\n",
       "      <td>2</td>\n",
       "      <td>20</td>\n",
       "      <td>0.1</td>\n",
       "      <td>100</td>\n",
       "      <td>10</td>\n",
       "      <td>[51.73491343687681, 55.090170344537874, 42.131...</td>\n",
       "      <td>63.0</td>\n",
       "    </tr>\n",
       "    <tr>\n",
       "      <th>176</th>\n",
       "      <td>173</td>\n",
       "      <td>5</td>\n",
       "      <td>7</td>\n",
       "      <td>7</td>\n",
       "      <td>0.1</td>\n",
       "      <td>100</td>\n",
       "      <td>5</td>\n",
       "      <td>[45.3722148550423, 74.80721688933131, inf, inf...</td>\n",
       "      <td>61.0</td>\n",
       "    </tr>\n",
       "    <tr>\n",
       "      <th>41</th>\n",
       "      <td>40</td>\n",
       "      <td>1</td>\n",
       "      <td>5</td>\n",
       "      <td>7</td>\n",
       "      <td>0.1</td>\n",
       "      <td>100</td>\n",
       "      <td>1</td>\n",
       "      <td>[31.35976836672978, inf, inf, inf, inf, inf, inf]</td>\n",
       "      <td>61.0</td>\n",
       "    </tr>\n",
       "    <tr>\n",
       "      <th>158</th>\n",
       "      <td>156</td>\n",
       "      <td>5</td>\n",
       "      <td>3</td>\n",
       "      <td>20</td>\n",
       "      <td>0.1</td>\n",
       "      <td>100</td>\n",
       "      <td>10</td>\n",
       "      <td>[45.08089844359968, 73.34670685842578, inf, in...</td>\n",
       "      <td>61.0</td>\n",
       "    </tr>\n",
       "    <tr>\n",
       "      <th>77</th>\n",
       "      <td>90</td>\n",
       "      <td>3</td>\n",
       "      <td>3</td>\n",
       "      <td>7</td>\n",
       "      <td>0.1</td>\n",
       "      <td>100</td>\n",
       "      <td>10</td>\n",
       "      <td>[47.12899238199518, 70.47645606204566, inf, in...</td>\n",
       "      <td>60.0</td>\n",
       "    </tr>\n",
       "  </tbody>\n",
       "</table>\n",
       "</div>"
      ],
      "text/plain": [
       "     experience  k  w  it   lr    L  occ_min  \\\n",
       "30           24  1  2  20  0.1  100       10   \n",
       "176         173  5  7   7  0.1  100        5   \n",
       "41           40  1  5   7  0.1  100        1   \n",
       "158         156  5  3  20  0.1  100       10   \n",
       "77           90  3  3   7  0.1  100       10   \n",
       "\n",
       "                                                  loss  resultat (%)  \n",
       "30   [51.73491343687681, 55.090170344537874, 42.131...          63.0  \n",
       "176  [45.3722148550423, 74.80721688933131, inf, inf...          61.0  \n",
       "41   [31.35976836672978, inf, inf, inf, inf, inf, inf]          61.0  \n",
       "158  [45.08089844359968, 73.34670685842578, inf, in...          61.0  \n",
       "77   [47.12899238199518, 70.47645606204566, inf, in...          60.0  "
      ]
     },
     "execution_count": 32,
     "metadata": {},
     "output_type": "execute_result"
    }
   ],
   "source": [
    "df.head()"
   ]
  },
  {
   "cell_type": "code",
   "execution_count": 36,
   "metadata": {},
   "outputs": [],
   "source": [
    "df_clean = df[df['loss'].apply(lambda x: all(i != float('inf') for i in x) if isinstance(x, list) else False)]\n"
   ]
  },
  {
   "cell_type": "code",
   "execution_count": 37,
   "metadata": {},
   "outputs": [
    {
     "data": {
      "text/html": [
       "<div>\n",
       "<style scoped>\n",
       "    .dataframe tbody tr th:only-of-type {\n",
       "        vertical-align: middle;\n",
       "    }\n",
       "\n",
       "    .dataframe tbody tr th {\n",
       "        vertical-align: top;\n",
       "    }\n",
       "\n",
       "    .dataframe thead th {\n",
       "        text-align: right;\n",
       "    }\n",
       "</style>\n",
       "<table border=\"1\" class=\"dataframe\">\n",
       "  <thead>\n",
       "    <tr style=\"text-align: right;\">\n",
       "      <th></th>\n",
       "      <th>experience</th>\n",
       "      <th>k</th>\n",
       "      <th>w</th>\n",
       "      <th>it</th>\n",
       "      <th>lr</th>\n",
       "      <th>L</th>\n",
       "      <th>occ_min</th>\n",
       "      <th>loss</th>\n",
       "      <th>resultat (%)</th>\n",
       "    </tr>\n",
       "  </thead>\n",
       "  <tbody>\n",
       "    <tr>\n",
       "      <th>1</th>\n",
       "      <td>2</td>\n",
       "      <td>1</td>\n",
       "      <td>1</td>\n",
       "      <td>5</td>\n",
       "      <td>0.1</td>\n",
       "      <td>100</td>\n",
       "      <td>5</td>\n",
       "      <td>[33.56471472267215, 27.240730373620334, 21.309...</td>\n",
       "      <td>53.0</td>\n",
       "    </tr>\n",
       "    <tr>\n",
       "      <th>0</th>\n",
       "      <td>3</td>\n",
       "      <td>1</td>\n",
       "      <td>1</td>\n",
       "      <td>5</td>\n",
       "      <td>0.1</td>\n",
       "      <td>100</td>\n",
       "      <td>10</td>\n",
       "      <td>[43.624267392602164, 39.5702022415703, 30.2872...</td>\n",
       "      <td>48.0</td>\n",
       "    </tr>\n",
       "  </tbody>\n",
       "</table>\n",
       "</div>"
      ],
      "text/plain": [
       "   experience  k  w  it   lr    L  occ_min  \\\n",
       "1           2  1  1   5  0.1  100        5   \n",
       "0           3  1  1   5  0.1  100       10   \n",
       "\n",
       "                                                loss  resultat (%)  \n",
       "1  [33.56471472267215, 27.240730373620334, 21.309...          53.0  \n",
       "0  [43.624267392602164, 39.5702022415703, 30.2872...          48.0  "
      ]
     },
     "execution_count": 37,
     "metadata": {},
     "output_type": "execute_result"
    }
   ],
   "source": [
    "df_clean.head()"
   ]
  },
  {
   "attachments": {},
   "cell_type": "markdown",
   "metadata": {},
   "source": [
    "## **1 Influence du paramètre k**"
   ]
  },
  {
   "cell_type": "code",
   "execution_count": 27,
   "metadata": {},
   "outputs": [
    {
     "name": "stdout",
     "output_type": "stream",
     "text": [
      "    k  resultat (%)\n",
      "0   1     46.610169\n",
      "1   3     45.233333\n",
      "2   5     44.416667\n",
      "3  10     43.466667\n"
     ]
    }
   ],
   "source": [
    "moyenne_k = df.groupby(['k'])['resultat (%)'].mean().reset_index()\n",
    "print(moyenne_k)"
   ]
  },
  {
   "attachments": {},
   "cell_type": "markdown",
   "metadata": {},
   "source": [
    "## **2 Influence de w**"
   ]
  },
  {
   "cell_type": "code",
   "execution_count": 28,
   "metadata": {},
   "outputs": [
    {
     "name": "stdout",
     "output_type": "stream",
     "text": [
      "   w  resultat (%)\n",
      "0  1     49.604167\n",
      "1  2     46.583333\n",
      "2  3     46.854167\n",
      "3  5     41.787234\n",
      "4  7     39.729167\n"
     ]
    }
   ],
   "source": [
    "moyenne_w = df.groupby(['w'])['resultat (%)'].mean().reset_index()\n",
    "print(moyenne_w)"
   ]
  },
  {
   "attachments": {},
   "cell_type": "markdown",
   "metadata": {},
   "source": [
    "## **3 Influence de it**"
   ]
  },
  {
   "cell_type": "code",
   "execution_count": 29,
   "metadata": {},
   "outputs": [
    {
     "name": "stdout",
     "output_type": "stream",
     "text": [
      "   it  resultat (%)\n",
      "0   5     50.250000\n",
      "1   7     50.677966\n",
      "2  10     43.866667\n",
      "3  20     35.000000\n"
     ]
    }
   ],
   "source": [
    "moyenne_it = df.groupby(['it'])['resultat (%)'].mean().reset_index()\n",
    "print(moyenne_it)"
   ]
  },
  {
   "attachments": {},
   "cell_type": "markdown",
   "metadata": {},
   "source": [
    "## **4 Influence de occ_min**"
   ]
  },
  {
   "cell_type": "code",
   "execution_count": 30,
   "metadata": {},
   "outputs": [
    {
     "name": "stdout",
     "output_type": "stream",
     "text": [
      "   occ_min  resultat (%)\n",
      "0        1     35.975000\n",
      "1        5     48.100000\n",
      "2       10     50.772152\n"
     ]
    }
   ],
   "source": [
    "moyenne_occ = df.groupby(['occ_min'])['resultat (%)'].mean().reset_index()\n",
    "print(moyenne_occ)"
   ]
  }
 ],
 "metadata": {
  "kernelspec": {
   "display_name": "Python 3",
   "language": "python",
   "name": "python3"
  },
  "language_info": {
   "codemirror_mode": {
    "name": "ipython",
    "version": 3
   },
   "file_extension": ".py",
   "mimetype": "text/x-python",
   "name": "python",
   "nbconvert_exporter": "python",
   "pygments_lexer": "ipython3",
   "version": "3.10.15"
  },
  "orig_nbformat": 4
 },
 "nbformat": 4,
 "nbformat_minor": 2
}
